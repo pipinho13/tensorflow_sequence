{
  "nbformat": 4,
  "nbformat_minor": 0,
  "metadata": {
    "colab": {
      "name": "S+P Week 2 Lesson 2.ipynb",
      "provenance": []
    },
    "kernelspec": {
      "name": "python3",
      "display_name": "Python 3"
    }
  },
  "cells": [
    {
      "cell_type": "code",
      "metadata": {
        "id": "D1J15Vh_1Jih",
        "colab_type": "code",
        "colab": {
          "base_uri": "https://localhost:8080/",
          "height": 615
        },
        "outputId": "72a008b6-5ae6-4b16-e46c-23ced51a0385"
      },
      "source": [
        "!pip install tf-nightly-2.0-preview\n"
      ],
      "execution_count": 1,
      "outputs": [
        {
          "output_type": "stream",
          "text": [
            "Requirement already satisfied: tf-nightly-2.0-preview in /usr/local/lib/python3.6/dist-packages (2.0.0.dev20191002)\n",
            "Requirement already satisfied: absl-py>=0.7.0 in /usr/local/lib/python3.6/dist-packages (from tf-nightly-2.0-preview) (0.8.1)\n",
            "Requirement already satisfied: termcolor>=1.1.0 in /usr/local/lib/python3.6/dist-packages (from tf-nightly-2.0-preview) (1.1.0)\n",
            "Requirement already satisfied: opt-einsum>=2.3.2 in /usr/local/lib/python3.6/dist-packages (from tf-nightly-2.0-preview) (3.1.0)\n",
            "Requirement already satisfied: google-pasta>=0.1.6 in /usr/local/lib/python3.6/dist-packages (from tf-nightly-2.0-preview) (0.1.7)\n",
            "Requirement already satisfied: keras-preprocessing>=1.0.5 in /usr/local/lib/python3.6/dist-packages (from tf-nightly-2.0-preview) (1.1.0)\n",
            "Requirement already satisfied: tb-nightly<2.2.0a0,>=2.1.0a0 in /usr/local/lib/python3.6/dist-packages (from tf-nightly-2.0-preview) (2.1.0a20191029)\n",
            "Requirement already satisfied: protobuf>=3.6.1 in /usr/local/lib/python3.6/dist-packages (from tf-nightly-2.0-preview) (3.10.0)\n",
            "Requirement already satisfied: grpcio>=1.8.6 in /usr/local/lib/python3.6/dist-packages (from tf-nightly-2.0-preview) (1.15.0)\n",
            "Requirement already satisfied: six>=1.10.0 in /usr/local/lib/python3.6/dist-packages (from tf-nightly-2.0-preview) (1.12.0)\n",
            "Requirement already satisfied: astor>=0.6.0 in /usr/local/lib/python3.6/dist-packages (from tf-nightly-2.0-preview) (0.8.0)\n",
            "Requirement already satisfied: tensorflow-estimator-2.0-preview in /usr/local/lib/python3.6/dist-packages (from tf-nightly-2.0-preview) (2.0.0)\n",
            "Requirement already satisfied: keras-applications>=1.0.8 in /usr/local/lib/python3.6/dist-packages (from tf-nightly-2.0-preview) (1.0.8)\n",
            "Requirement already satisfied: gast==0.2.2 in /usr/local/lib/python3.6/dist-packages (from tf-nightly-2.0-preview) (0.2.2)\n",
            "Requirement already satisfied: numpy<2.0,>=1.16.0 in /usr/local/lib/python3.6/dist-packages (from tf-nightly-2.0-preview) (1.17.3)\n",
            "Requirement already satisfied: wheel>=0.26; python_version >= \"3\" in /usr/local/lib/python3.6/dist-packages (from tf-nightly-2.0-preview) (0.33.6)\n",
            "Requirement already satisfied: wrapt>=1.11.1 in /usr/local/lib/python3.6/dist-packages (from tf-nightly-2.0-preview) (1.11.2)\n",
            "Requirement already satisfied: google-auth-oauthlib<0.5,>=0.4.1 in /usr/local/lib/python3.6/dist-packages (from tb-nightly<2.2.0a0,>=2.1.0a0->tf-nightly-2.0-preview) (0.4.1)\n",
            "Requirement already satisfied: werkzeug>=0.11.15 in /usr/local/lib/python3.6/dist-packages (from tb-nightly<2.2.0a0,>=2.1.0a0->tf-nightly-2.0-preview) (0.16.0)\n",
            "Requirement already satisfied: markdown>=2.6.8 in /usr/local/lib/python3.6/dist-packages (from tb-nightly<2.2.0a0,>=2.1.0a0->tf-nightly-2.0-preview) (3.1.1)\n",
            "Requirement already satisfied: setuptools>=41.0.0 in /usr/local/lib/python3.6/dist-packages (from tb-nightly<2.2.0a0,>=2.1.0a0->tf-nightly-2.0-preview) (41.4.0)\n",
            "Requirement already satisfied: google-auth<2,>=1.6.3 in /usr/local/lib/python3.6/dist-packages (from tb-nightly<2.2.0a0,>=2.1.0a0->tf-nightly-2.0-preview) (1.6.3)\n",
            "Requirement already satisfied: h5py in /usr/local/lib/python3.6/dist-packages (from keras-applications>=1.0.8->tf-nightly-2.0-preview) (2.8.0)\n",
            "Requirement already satisfied: requests-oauthlib>=0.7.0 in /usr/local/lib/python3.6/dist-packages (from google-auth-oauthlib<0.5,>=0.4.1->tb-nightly<2.2.0a0,>=2.1.0a0->tf-nightly-2.0-preview) (1.2.0)\n",
            "Requirement already satisfied: rsa>=3.1.4 in /usr/local/lib/python3.6/dist-packages (from google-auth<2,>=1.6.3->tb-nightly<2.2.0a0,>=2.1.0a0->tf-nightly-2.0-preview) (4.0)\n",
            "Requirement already satisfied: cachetools>=2.0.0 in /usr/local/lib/python3.6/dist-packages (from google-auth<2,>=1.6.3->tb-nightly<2.2.0a0,>=2.1.0a0->tf-nightly-2.0-preview) (3.1.1)\n",
            "Requirement already satisfied: pyasn1-modules>=0.2.1 in /usr/local/lib/python3.6/dist-packages (from google-auth<2,>=1.6.3->tb-nightly<2.2.0a0,>=2.1.0a0->tf-nightly-2.0-preview) (0.2.7)\n",
            "Requirement already satisfied: requests>=2.0.0 in /usr/local/lib/python3.6/dist-packages (from requests-oauthlib>=0.7.0->google-auth-oauthlib<0.5,>=0.4.1->tb-nightly<2.2.0a0,>=2.1.0a0->tf-nightly-2.0-preview) (2.21.0)\n",
            "Requirement already satisfied: oauthlib>=3.0.0 in /usr/local/lib/python3.6/dist-packages (from requests-oauthlib>=0.7.0->google-auth-oauthlib<0.5,>=0.4.1->tb-nightly<2.2.0a0,>=2.1.0a0->tf-nightly-2.0-preview) (3.1.0)\n",
            "Requirement already satisfied: pyasn1>=0.1.3 in /usr/local/lib/python3.6/dist-packages (from rsa>=3.1.4->google-auth<2,>=1.6.3->tb-nightly<2.2.0a0,>=2.1.0a0->tf-nightly-2.0-preview) (0.4.7)\n",
            "Requirement already satisfied: chardet<3.1.0,>=3.0.2 in /usr/local/lib/python3.6/dist-packages (from requests>=2.0.0->requests-oauthlib>=0.7.0->google-auth-oauthlib<0.5,>=0.4.1->tb-nightly<2.2.0a0,>=2.1.0a0->tf-nightly-2.0-preview) (3.0.4)\n",
            "Requirement already satisfied: urllib3<1.25,>=1.21.1 in /usr/local/lib/python3.6/dist-packages (from requests>=2.0.0->requests-oauthlib>=0.7.0->google-auth-oauthlib<0.5,>=0.4.1->tb-nightly<2.2.0a0,>=2.1.0a0->tf-nightly-2.0-preview) (1.24.3)\n",
            "Requirement already satisfied: certifi>=2017.4.17 in /usr/local/lib/python3.6/dist-packages (from requests>=2.0.0->requests-oauthlib>=0.7.0->google-auth-oauthlib<0.5,>=0.4.1->tb-nightly<2.2.0a0,>=2.1.0a0->tf-nightly-2.0-preview) (2019.9.11)\n",
            "Requirement already satisfied: idna<2.9,>=2.5 in /usr/local/lib/python3.6/dist-packages (from requests>=2.0.0->requests-oauthlib>=0.7.0->google-auth-oauthlib<0.5,>=0.4.1->tb-nightly<2.2.0a0,>=2.1.0a0->tf-nightly-2.0-preview) (2.8)\n"
          ],
          "name": "stdout"
        }
      ]
    },
    {
      "cell_type": "code",
      "metadata": {
        "id": "BOjujz601HcS",
        "colab_type": "code",
        "outputId": "d06fcbd5-cff7-4e5f-d7d4-2d09cb454932",
        "colab": {
          "base_uri": "https://localhost:8080/",
          "height": 34
        }
      },
      "source": [
        "import tensorflow as tf\n",
        "import numpy as np\n",
        "import matplotlib.pyplot as plt\n",
        "print(tf.__version__)"
      ],
      "execution_count": 2,
      "outputs": [
        {
          "output_type": "stream",
          "text": [
            "2.0.0-dev20191002\n"
          ],
          "name": "stdout"
        }
      ]
    },
    {
      "cell_type": "code",
      "metadata": {
        "colab_type": "code",
        "id": "Zswl7jRtGzkk",
        "colab": {}
      },
      "source": [
        "def plot_series(time, series, format=\"-\", start=0, end=None):\n",
        "    plt.plot(time[start:end], series[start:end], format)\n",
        "    plt.xlabel(\"Time\")\n",
        "    plt.ylabel(\"Value\")\n",
        "    plt.grid(True)\n",
        "\n",
        "def trend(time, slope=0):\n",
        "    return slope * time\n",
        "\n",
        "def seasonal_pattern(season_time):\n",
        "    \"\"\"Just an arbitrary pattern, you can change it if you wish\"\"\"\n",
        "    return np.where(season_time < 0.4,\n",
        "                    np.cos(season_time * 2 * np.pi),\n",
        "                    1 / np.exp(3 * season_time))\n",
        "\n",
        "def seasonality(time, period, amplitude=1, phase=0):\n",
        "    \"\"\"Repeats the same pattern at each period\"\"\"\n",
        "    season_time = ((time + phase) % period) / period\n",
        "    return amplitude * seasonal_pattern(season_time)\n",
        "\n",
        "def noise(time, noise_level=1, seed=None):\n",
        "    rnd = np.random.RandomState(seed)\n",
        "    return rnd.randn(len(time)) * noise_level\n",
        "\n",
        "time = np.arange(4 * 365 + 1, dtype=\"float32\")\n",
        "baseline = 10\n",
        "series = trend(time, 0.1)  \n",
        "baseline = 10\n",
        "amplitude = 40\n",
        "slope = 0.05\n",
        "noise_level = 5\n",
        "\n",
        "# Create the series\n",
        "series = baseline + trend(time, slope) + seasonality(time, period=365, amplitude=amplitude)\n",
        "# Update with noise\n",
        "series += noise(time, noise_level, seed=42)\n",
        "\n",
        "split_time = 1000\n",
        "time_train = time[:split_time]\n",
        "x_train = series[:split_time]\n",
        "time_valid = time[split_time:]\n",
        "x_valid = series[split_time:]\n",
        "\n",
        "window_size = 20\n",
        "batch_size = 32\n",
        "shuffle_buffer_size = 1000"
      ],
      "execution_count": 0,
      "outputs": []
    },
    {
      "cell_type": "code",
      "metadata": {
        "id": "-JAxJ5ljYTm7",
        "colab_type": "code",
        "colab": {
          "base_uri": "https://localhost:8080/",
          "height": 282
        },
        "outputId": "954b7f04-0df3-4515-d927-988661a3221f"
      },
      "source": [
        "plt.plot(series)"
      ],
      "execution_count": 5,
      "outputs": [
        {
          "output_type": "execute_result",
          "data": {
            "text/plain": [
              "[<matplotlib.lines.Line2D at 0x7f864c469ef0>]"
            ]
          },
          "metadata": {
            "tags": []
          },
          "execution_count": 5
        },
        {
          "output_type": "display_data",
          "data": {
            "image/png": "[encoded data removed]",
            "text/plain": [
              "<Figure size 432x288 with 1 Axes>"
            ]
          },
          "metadata": {
            "tags": []
          }
        }
      ]
    },
    {
      "cell_type": "code",
      "metadata": {
        "id": "4sTTIOCbyShY",
        "colab_type": "code",
        "colab": {}
      },
      "source": [
        "def windowed_dataset(series, window_size, batch_size, shuffle_buffer):\n",
        "  dataset = tf.data.Dataset.from_tensor_slices(series)\n",
        "  dataset = dataset.window(window_size + 1, shift=1, drop_remainder=True)\n",
        "  dataset = dataset.flat_map(lambda window: window.batch(window_size + 1))\n",
        "  dataset = dataset.shuffle(shuffle_buffer).map(lambda window: (window[:-1], window[-1]))\n",
        "  dataset = dataset.batch(batch_size).prefetch(1)\n",
        "  return dataset"
      ],
      "execution_count": 0,
      "outputs": []
    },
    {
      "cell_type": "code",
      "metadata": {
        "id": "BbM7tjftY5yr",
        "colab_type": "code",
        "colab": {
          "base_uri": "https://localhost:8080/",
          "height": 34
        },
        "outputId": "be6ac94d-5d73-4618-a13f-af9f6fba1403"
      },
      "source": [
        "dataset = windowed_dataset(x_train, window_size, batch_size, shuffle_buffer_size)\n",
        "print(dataset)"
      ],
      "execution_count": 7,
      "outputs": [
        {
          "output_type": "stream",
          "text": [
            "<PrefetchDataset shapes: ((None, None), (None,)), types: (tf.float32, tf.float32)>\n"
          ],
          "name": "stdout"
        }
      ]
    },
    {
      "cell_type": "code",
      "metadata": {
        "id": "ou-WmE2AXu6B",
        "colab_type": "code",
        "outputId": "2332349a-f6b7-4957-b85b-3f11b0bd7b52",
        "colab": {
          "base_uri": "https://localhost:8080/",
          "height": 374
        }
      },
      "source": [
        "dataset = windowed_dataset(x_train, window_size, batch_size, shuffle_buffer_size)\n",
        "print(dataset)\n",
        "l0 = tf.keras.layers.Dense(1, input_shape=[window_size])\n",
        "model = tf.keras.models.Sequential([l0])\n",
        "\n",
        "\n",
        "model.compile(loss=\"mse\", optimizer=tf.keras.optimizers.SGD(lr=1e-6, momentum=0.9))\n",
        "model.fit(dataset,epochs=100,verbose=0)\n",
        "\n",
        "print(\"Layer weights {}\".format(l0.get_weights()))\n",
        "\n"
      ],
      "execution_count": 8,
      "outputs": [
        {
          "output_type": "stream",
          "text": [
            "<PrefetchDataset shapes: ((None, None), (None,)), types: (tf.float32, tf.float32)>\n",
            "Layer weights [array([[-0.1108072 ],\n",
            "       [ 0.04849157],\n",
            "       [ 0.06259218],\n",
            "       [-0.01455177],\n",
            "       [ 0.02113022],\n",
            "       [-0.00998581],\n",
            "       [-0.01189139],\n",
            "       [ 0.04726803],\n",
            "       [-0.04845456],\n",
            "       [ 0.08095632],\n",
            "       [-0.11448605],\n",
            "       [-0.02395753],\n",
            "       [ 0.0277235 ],\n",
            "       [ 0.09168153],\n",
            "       [-0.02489213],\n",
            "       [ 0.06239042],\n",
            "       [ 0.00872023],\n",
            "       [ 0.16797318],\n",
            "       [ 0.2175663 ],\n",
            "       [ 0.50279695]], dtype=float32), array([0.01484227], dtype=float32)]\n"
          ],
          "name": "stdout"
        }
      ]
    },
    {
      "cell_type": "code",
      "metadata": {
        "id": "-gtVJuLVxR-M",
        "colab_type": "code",
        "outputId": "c192e5fb-e2f1-49d1-f6ef-82c71edc7733",
        "colab": {
          "base_uri": "https://localhost:8080/",
          "height": 388
        }
      },
      "source": [
        "forecast = []\n",
        "\n",
        "for time in range(len(series) - window_size):\n",
        "  forecast.append(model.predict(series[time:time + window_size][np.newaxis]))\n",
        "\n",
        "forecast = forecast[split_time-window_size:]\n",
        "results = np.array(forecast)[:, 0, 0]\n",
        "\n",
        "\n",
        "plt.figure(figsize=(10, 6))\n",
        "\n",
        "plot_series(time_valid, x_valid)\n",
        "plot_series(time_valid, results)"
      ],
      "execution_count": 9,
      "outputs": [
        {
          "output_type": "display_data",
          "data": {
            "image/png": "[encoded data removed]",
            "text/plain": [
              "<Figure size 720x432 with 1 Axes>"
            ]
          },
          "metadata": {
            "tags": []
          }
        }
      ]
    },
    {
      "cell_type": "code",
      "metadata": {
        "colab_type": "code",
        "outputId": "2699e66b-d240-4704-b17d-e98783e32b56",
        "id": "hR2BO0Dai_ZT",
        "colab": {
          "base_uri": "https://localhost:8080/",
          "height": 34
        }
      },
      "source": [
        "tf.keras.metrics.mean_absolute_error(x_valid, results).numpy()"
      ],
      "execution_count": 10,
      "outputs": [
        {
          "output_type": "execute_result",
          "data": {
            "text/plain": [
              "5.2021613"
            ]
          },
          "metadata": {
            "tags": []
          },
          "execution_count": 10
        }
      ]
    },
    {
      "cell_type": "code",
      "metadata": {
        "id": "6ewV_J4-Z7Au",
        "colab_type": "code",
        "colab": {
          "base_uri": "https://localhost:8080/",
          "height": 272
        },
        "outputId": "9158389c-ca7a-4773-bacf-0349fc5ff674"
      },
      "source": [
        "for time in range(len(series) - window_size)[:5]:\n",
        "  print(series[time:time + window_size])"
      ],
      "execution_count": 12,
      "outputs": [
        {
          "output_type": "stream",
          "text": [
            "[52.48357  49.35275  53.314735 57.711823 48.934444 48.931244 57.982895\n",
            " 53.897125 47.67393  52.68371  47.591717 47.506374 50.959415 40.086178\n",
            " 40.919415 46.612473 44.228207 50.720642 44.454983 41.76799 ]\n",
            "[49.35275  53.314735 57.711823 48.934444 48.931244 57.982895 53.897125\n",
            " 47.67393  52.68371  47.591717 47.506374 50.959415 40.086178 40.919415\n",
            " 46.612473 44.228207 50.720642 44.454983 41.76799  55.980938]\n",
            "[53.314735 57.711823 48.934444 48.931244 57.982895 53.897125 47.67393\n",
            " 52.68371  47.591717 47.506374 50.959415 40.086178 40.919415 46.612473\n",
            " 44.228207 50.720642 44.454983 41.76799  55.980938 47.335835]\n",
            "[57.711823 48.934444 48.931244 57.982895 53.897125 47.67393  52.68371\n",
            " 47.591717 47.506374 50.959415 40.086178 40.919415 46.612473 44.228207\n",
            " 50.720642 44.454983 41.76799  55.980938 47.335835 48.6033  ]\n",
            "[48.934444 48.931244 57.982895 53.897125 47.67393  52.68371  47.591717\n",
            " 47.506374 50.959415 40.086178 40.919415 46.612473 44.228207 50.720642\n",
            " 44.454983 41.76799  55.980938 47.335835 48.6033   40.93184 ]\n"
          ],
          "name": "stdout"
        }
      ]
    },
    {
      "cell_type": "code",
      "metadata": {
        "id": "wjKBCiDcaCMg",
        "colab_type": "code",
        "colab": {
          "base_uri": "https://localhost:8080/",
          "height": 34
        },
        "outputId": "01680bf3-c7ed-4453-cfac-2fcb8504bd8e"
      },
      "source": [
        "window_size"
      ],
      "execution_count": 13,
      "outputs": [
        {
          "output_type": "execute_result",
          "data": {
            "text/plain": [
              "20"
            ]
          },
          "metadata": {
            "tags": []
          },
          "execution_count": 13
        }
      ]
    },
    {
      "cell_type": "code",
      "metadata": {
        "id": "0XiqpMr2aLlR",
        "colab_type": "code",
        "colab": {
          "base_uri": "https://localhost:8080/",
          "height": 34
        },
        "outputId": "1165acef-4ce1-433b-e2ca-65af804c066a"
      },
      "source": [
        "split_time"
      ],
      "execution_count": 14,
      "outputs": [
        {
          "output_type": "execute_result",
          "data": {
            "text/plain": [
              "1000"
            ]
          },
          "metadata": {
            "tags": []
          },
          "execution_count": 14
        }
      ]
    },
    {
      "cell_type": "code",
      "metadata": {
        "id": "6qrn88eqaWDg",
        "colab_type": "code",
        "colab": {}
      },
      "source": [
        "forecast = []\n",
        "\n",
        "for time in range(len(series) - window_size):\n",
        "  forecast.append(model.predict(series[time:time + window_size][np.newaxis]))\n",
        "\n",
        "forecast = forecast[split_time-window_size:]"
      ],
      "execution_count": 0,
      "outputs": []
    },
    {
      "cell_type": "code",
      "metadata": {
        "id": "LWULwQ22acgp",
        "colab_type": "code",
        "colab": {
          "base_uri": "https://localhost:8080/",
          "height": 1000
        },
        "outputId": "f7419c44-4a45-46e8-d648-312a48f9f699"
      },
      "source": [
        "forecast"
      ],
      "execution_count": 17,
      "outputs": [
        {
          "output_type": "execute_result",
          "data": {
            "text/plain": [
              "[array([[63.92708]], dtype=float32),\n",
              " array([[67.30282]], dtype=float32),\n",
              " array([[67.1954]], dtype=float32),\n",
              " array([[66.60345]], dtype=float32),\n",
              " array([[63.19257]], dtype=float32),\n",
              " array([[65.53152]], dtype=float32),\n",
              " array([[62.969463]], dtype=float32),\n",
              " array([[66.5825]], dtype=float32),\n",
              " array([[66.95175]], dtype=float32),\n",
              " array([[66.706154]], dtype=float32),\n",
              " array([[62.10678]], dtype=float32),\n",
              " array([[67.863045]], dtype=float32),\n",
              " array([[65.22517]], dtype=float32),\n",
              " array([[70.89217]], dtype=float32),\n",
              " array([[64.47697]], dtype=float32),\n",
              " array([[70.605576]], dtype=float32),\n",
              " array([[63.30145]], dtype=float32),\n",
              " array([[64.156006]], dtype=float32),\n",
              " array([[61.89273]], dtype=float32),\n",
              " array([[63.922348]], dtype=float32),\n",
              " array([[61.911106]], dtype=float32),\n",
              " array([[65.12808]], dtype=float32),\n",
              " array([[61.69159]], dtype=float32),\n",
              " array([[64.835175]], dtype=float32),\n",
              " array([[66.480675]], dtype=float32),\n",
              " array([[71.32777]], dtype=float32),\n",
              " array([[68.15058]], dtype=float32),\n",
              " array([[66.02003]], dtype=float32),\n",
              " array([[64.79656]], dtype=float32),\n",
              " array([[65.3626]], dtype=float32),\n",
              " array([[62.827175]], dtype=float32),\n",
              " array([[63.921555]], dtype=float32),\n",
              " array([[57.48775]], dtype=float32),\n",
              " array([[62.512615]], dtype=float32),\n",
              " array([[62.522694]], dtype=float32),\n",
              " array([[63.377678]], dtype=float32),\n",
              " array([[67.272194]], dtype=float32),\n",
              " array([[62.34847]], dtype=float32),\n",
              " array([[59.596676]], dtype=float32),\n",
              " array([[62.198402]], dtype=float32),\n",
              " array([[65.69375]], dtype=float32),\n",
              " array([[70.7185]], dtype=float32),\n",
              " array([[65.62574]], dtype=float32),\n",
              " array([[67.07161]], dtype=float32),\n",
              " array([[63.277775]], dtype=float32),\n",
              " array([[63.395195]], dtype=float32),\n",
              " array([[68.26047]], dtype=float32),\n",
              " array([[67.11845]], dtype=float32),\n",
              " array([[60.68424]], dtype=float32),\n",
              " array([[66.30964]], dtype=float32),\n",
              " array([[67.1457]], dtype=float32),\n",
              " array([[67.38548]], dtype=float32),\n",
              " array([[64.10157]], dtype=float32),\n",
              " array([[67.29221]], dtype=float32),\n",
              " array([[65.12989]], dtype=float32),\n",
              " array([[61.636707]], dtype=float32),\n",
              " array([[63.87179]], dtype=float32),\n",
              " array([[64.71505]], dtype=float32),\n",
              " array([[65.93783]], dtype=float32),\n",
              " array([[66.94529]], dtype=float32),\n",
              " array([[64.3514]], dtype=float32),\n",
              " array([[66.404854]], dtype=float32),\n",
              " array([[57.416004]], dtype=float32),\n",
              " array([[64.50891]], dtype=float32),\n",
              " array([[60.533596]], dtype=float32),\n",
              " array([[62.64098]], dtype=float32),\n",
              " array([[58.094765]], dtype=float32),\n",
              " array([[61.681038]], dtype=float32),\n",
              " array([[62.6396]], dtype=float32),\n",
              " array([[63.082096]], dtype=float32),\n",
              " array([[65.39727]], dtype=float32),\n",
              " array([[65.78925]], dtype=float32),\n",
              " array([[63.74163]], dtype=float32),\n",
              " array([[66.354774]], dtype=float32),\n",
              " array([[61.266636]], dtype=float32),\n",
              " array([[67.96638]], dtype=float32),\n",
              " array([[64.27943]], dtype=float32),\n",
              " array([[59.245728]], dtype=float32),\n",
              " array([[62.540478]], dtype=float32),\n",
              " array([[65.77575]], dtype=float32),\n",
              " array([[67.35438]], dtype=float32),\n",
              " array([[66.802956]], dtype=float32),\n",
              " array([[63.601746]], dtype=float32),\n",
              " array([[64.55955]], dtype=float32),\n",
              " array([[67.69915]], dtype=float32),\n",
              " array([[70.3258]], dtype=float32),\n",
              " array([[69.844185]], dtype=float32),\n",
              " array([[67.76397]], dtype=float32),\n",
              " array([[67.16804]], dtype=float32),\n",
              " array([[65.02886]], dtype=float32),\n",
              " array([[66.287025]], dtype=float32),\n",
              " array([[64.9602]], dtype=float32),\n",
              " array([[64.97486]], dtype=float32),\n",
              " array([[66.836754]], dtype=float32),\n",
              " array([[66.03602]], dtype=float32),\n",
              " array([[66.7938]], dtype=float32),\n",
              " array([[86.18699]], dtype=float32),\n",
              " array([[94.77828]], dtype=float32),\n",
              " array([[93.42849]], dtype=float32),\n",
              " array([[100.0897]], dtype=float32),\n",
              " array([[102.10134]], dtype=float32),\n",
              " array([[105.61669]], dtype=float32),\n",
              " array([[98.52453]], dtype=float32),\n",
              " array([[108.31446]], dtype=float32),\n",
              " array([[102.87649]], dtype=float32),\n",
              " array([[105.510704]], dtype=float32),\n",
              " array([[100.4707]], dtype=float32),\n",
              " array([[105.19143]], dtype=float32),\n",
              " array([[97.49311]], dtype=float32),\n",
              " array([[101.792564]], dtype=float32),\n",
              " array([[104.6778]], dtype=float32),\n",
              " array([[106.83466]], dtype=float32),\n",
              " array([[100.688805]], dtype=float32),\n",
              " array([[108.349724]], dtype=float32),\n",
              " array([[106.71279]], dtype=float32),\n",
              " array([[103.653915]], dtype=float32),\n",
              " array([[102.86207]], dtype=float32),\n",
              " array([[110.767235]], dtype=float32),\n",
              " array([[103.63816]], dtype=float32),\n",
              " array([[101.918846]], dtype=float32),\n",
              " array([[104.42057]], dtype=float32),\n",
              " array([[106.462425]], dtype=float32),\n",
              " array([[104.67368]], dtype=float32),\n",
              " array([[104.89672]], dtype=float32),\n",
              " array([[98.45641]], dtype=float32),\n",
              " array([[103.593346]], dtype=float32),\n",
              " array([[95.83529]], dtype=float32),\n",
              " array([[102.46438]], dtype=float32),\n",
              " array([[96.54278]], dtype=float32),\n",
              " array([[97.58784]], dtype=float32),\n",
              " array([[97.070595]], dtype=float32),\n",
              " array([[99.31844]], dtype=float32),\n",
              " array([[98.68668]], dtype=float32),\n",
              " array([[102.2653]], dtype=float32),\n",
              " array([[99.34807]], dtype=float32),\n",
              " array([[99.60804]], dtype=float32),\n",
              " array([[96.3086]], dtype=float32),\n",
              " array([[101.8536]], dtype=float32),\n",
              " array([[94.21609]], dtype=float32),\n",
              " array([[96.60796]], dtype=float32),\n",
              " array([[96.55395]], dtype=float32),\n",
              " array([[93.23307]], dtype=float32),\n",
              " array([[96.473206]], dtype=float32),\n",
              " array([[96.05385]], dtype=float32),\n",
              " array([[92.6311]], dtype=float32),\n",
              " array([[91.81069]], dtype=float32),\n",
              " array([[92.21408]], dtype=float32),\n",
              " array([[89.49115]], dtype=float32),\n",
              " array([[86.122185]], dtype=float32),\n",
              " array([[92.38352]], dtype=float32),\n",
              " array([[88.47503]], dtype=float32),\n",
              " array([[86.43769]], dtype=float32),\n",
              " array([[81.59194]], dtype=float32),\n",
              " array([[83.01046]], dtype=float32),\n",
              " array([[82.191666]], dtype=float32),\n",
              " array([[89.141945]], dtype=float32),\n",
              " array([[89.348656]], dtype=float32),\n",
              " array([[87.92562]], dtype=float32),\n",
              " array([[88.731834]], dtype=float32),\n",
              " array([[91.116005]], dtype=float32),\n",
              " array([[86.531456]], dtype=float32),\n",
              " array([[79.60613]], dtype=float32),\n",
              " array([[87.54981]], dtype=float32),\n",
              " array([[80.20281]], dtype=float32),\n",
              " array([[77.57931]], dtype=float32),\n",
              " array([[81.26828]], dtype=float32),\n",
              " array([[88.86779]], dtype=float32),\n",
              " array([[85.13285]], dtype=float32),\n",
              " array([[85.03675]], dtype=float32),\n",
              " array([[82.69066]], dtype=float32),\n",
              " array([[83.44209]], dtype=float32),\n",
              " array([[80.820816]], dtype=float32),\n",
              " array([[84.04392]], dtype=float32),\n",
              " array([[80.3708]], dtype=float32),\n",
              " array([[76.04458]], dtype=float32),\n",
              " array([[73.41018]], dtype=float32),\n",
              " array([[74.744965]], dtype=float32),\n",
              " array([[69.347824]], dtype=float32),\n",
              " array([[70.343376]], dtype=float32),\n",
              " array([[69.25884]], dtype=float32),\n",
              " array([[70.313866]], dtype=float32),\n",
              " array([[67.90848]], dtype=float32),\n",
              " array([[75.037056]], dtype=float32),\n",
              " array([[75.96165]], dtype=float32),\n",
              " array([[69.04142]], dtype=float32),\n",
              " array([[65.42903]], dtype=float32),\n",
              " array([[69.55753]], dtype=float32),\n",
              " array([[65.71148]], dtype=float32),\n",
              " array([[68.265205]], dtype=float32),\n",
              " array([[67.83895]], dtype=float32),\n",
              " array([[63.66084]], dtype=float32),\n",
              " array([[63.792736]], dtype=float32),\n",
              " array([[61.26933]], dtype=float32),\n",
              " array([[62.858276]], dtype=float32),\n",
              " array([[62.301456]], dtype=float32),\n",
              " array([[59.071674]], dtype=float32),\n",
              " array([[63.181133]], dtype=float32),\n",
              " array([[60.17586]], dtype=float32),\n",
              " array([[63.591755]], dtype=float32),\n",
              " array([[62.697872]], dtype=float32),\n",
              " array([[65.07996]], dtype=float32),\n",
              " array([[61.567238]], dtype=float32),\n",
              " array([[57.744873]], dtype=float32),\n",
              " array([[59.82585]], dtype=float32),\n",
              " array([[61.24667]], dtype=float32),\n",
              " array([[56.285152]], dtype=float32),\n",
              " array([[59.409554]], dtype=float32),\n",
              " array([[53.92777]], dtype=float32),\n",
              " array([[52.90147]], dtype=float32),\n",
              " array([[49.630085]], dtype=float32),\n",
              " array([[56.892345]], dtype=float32),\n",
              " array([[52.203533]], dtype=float32),\n",
              " array([[51.400005]], dtype=float32),\n",
              " array([[48.00223]], dtype=float32),\n",
              " array([[54.329548]], dtype=float32),\n",
              " array([[49.980854]], dtype=float32),\n",
              " array([[55.961678]], dtype=float32),\n",
              " array([[49.912468]], dtype=float32),\n",
              " array([[51.68123]], dtype=float32),\n",
              " array([[44.32063]], dtype=float32),\n",
              " array([[55.951725]], dtype=float32),\n",
              " array([[46.464855]], dtype=float32),\n",
              " array([[50.74039]], dtype=float32),\n",
              " array([[46.790718]], dtype=float32),\n",
              " array([[49.70209]], dtype=float32),\n",
              " array([[44.816265]], dtype=float32),\n",
              " array([[47.63428]], dtype=float32),\n",
              " array([[45.057693]], dtype=float32),\n",
              " array([[46.107998]], dtype=float32),\n",
              " array([[43.96679]], dtype=float32),\n",
              " array([[52.739586]], dtype=float32),\n",
              " array([[44.60229]], dtype=float32),\n",
              " array([[41.755466]], dtype=float32),\n",
              " array([[40.440872]], dtype=float32),\n",
              " array([[48.314144]], dtype=float32),\n",
              " array([[42.080334]], dtype=float32),\n",
              " array([[47.564144]], dtype=float32),\n",
              " array([[47.017803]], dtype=float32),\n",
              " array([[42.253197]], dtype=float32),\n",
              " array([[39.63168]], dtype=float32),\n",
              " array([[47.97275]], dtype=float32),\n",
              " array([[41.465893]], dtype=float32),\n",
              " array([[61.701817]], dtype=float32),\n",
              " array([[68.5208]], dtype=float32),\n",
              " array([[76.44022]], dtype=float32),\n",
              " array([[73.411156]], dtype=float32),\n",
              " array([[78.10093]], dtype=float32),\n",
              " array([[79.283226]], dtype=float32),\n",
              " array([[79.87123]], dtype=float32),\n",
              " array([[83.00855]], dtype=float32),\n",
              " array([[79.242]], dtype=float32),\n",
              " array([[79.67951]], dtype=float32),\n",
              " array([[84.27648]], dtype=float32),\n",
              " array([[75.58889]], dtype=float32),\n",
              " array([[82.78748]], dtype=float32),\n",
              " array([[84.17504]], dtype=float32),\n",
              " array([[78.06913]], dtype=float32),\n",
              " array([[87.18025]], dtype=float32),\n",
              " array([[83.88717]], dtype=float32),\n",
              " array([[84.17794]], dtype=float32),\n",
              " array([[84.38795]], dtype=float32),\n",
              " array([[83.69879]], dtype=float32),\n",
              " array([[82.89988]], dtype=float32),\n",
              " array([[82.58848]], dtype=float32),\n",
              " array([[80.93826]], dtype=float32),\n",
              " array([[81.98737]], dtype=float32),\n",
              " array([[75.6325]], dtype=float32),\n",
              " array([[81.437836]], dtype=float32),\n",
              " array([[76.78103]], dtype=float32),\n",
              " array([[80.25355]], dtype=float32),\n",
              " array([[81.5262]], dtype=float32),\n",
              " array([[83.720726]], dtype=float32),\n",
              " array([[85.74099]], dtype=float32),\n",
              " array([[80.367134]], dtype=float32),\n",
              " array([[78.931]], dtype=float32),\n",
              " array([[85.28083]], dtype=float32),\n",
              " array([[81.459564]], dtype=float32),\n",
              " array([[88.99381]], dtype=float32),\n",
              " array([[85.59768]], dtype=float32),\n",
              " array([[83.236015]], dtype=float32),\n",
              " array([[80.428215]], dtype=float32),\n",
              " array([[81.98362]], dtype=float32),\n",
              " array([[81.3441]], dtype=float32),\n",
              " array([[83.59185]], dtype=float32),\n",
              " array([[83.46999]], dtype=float32),\n",
              " array([[81.44923]], dtype=float32),\n",
              " array([[75.476524]], dtype=float32),\n",
              " array([[76.30448]], dtype=float32),\n",
              " array([[79.676994]], dtype=float32),\n",
              " array([[77.53937]], dtype=float32),\n",
              " array([[73.98935]], dtype=float32),\n",
              " array([[77.30758]], dtype=float32),\n",
              " array([[85.85943]], dtype=float32),\n",
              " array([[82.71015]], dtype=float32),\n",
              " array([[85.4352]], dtype=float32),\n",
              " array([[83.225685]], dtype=float32),\n",
              " array([[80.74883]], dtype=float32),\n",
              " array([[81.585625]], dtype=float32),\n",
              " array([[83.66851]], dtype=float32),\n",
              " array([[82.729965]], dtype=float32),\n",
              " array([[81.191]], dtype=float32),\n",
              " array([[79.673164]], dtype=float32),\n",
              " array([[82.457985]], dtype=float32),\n",
              " array([[79.63969]], dtype=float32),\n",
              " array([[79.92086]], dtype=float32),\n",
              " array([[80.940735]], dtype=float32),\n",
              " array([[79.538826]], dtype=float32),\n",
              " array([[79.33863]], dtype=float32),\n",
              " array([[79.59872]], dtype=float32),\n",
              " array([[86.21241]], dtype=float32),\n",
              " array([[82.92856]], dtype=float32),\n",
              " array([[80.35536]], dtype=float32),\n",
              " array([[84.01586]], dtype=float32),\n",
              " array([[84.62018]], dtype=float32),\n",
              " array([[84.38468]], dtype=float32),\n",
              " array([[84.01533]], dtype=float32),\n",
              " array([[77.25219]], dtype=float32),\n",
              " array([[77.774796]], dtype=float32),\n",
              " array([[76.77206]], dtype=float32),\n",
              " array([[78.66715]], dtype=float32),\n",
              " array([[79.84279]], dtype=float32),\n",
              " array([[78.54488]], dtype=float32),\n",
              " array([[81.00235]], dtype=float32),\n",
              " array([[80.51786]], dtype=float32),\n",
              " array([[81.824524]], dtype=float32),\n",
              " array([[82.55603]], dtype=float32),\n",
              " array([[76.58308]], dtype=float32),\n",
              " array([[76.69652]], dtype=float32),\n",
              " array([[77.81187]], dtype=float32),\n",
              " array([[76.3074]], dtype=float32),\n",
              " array([[80.94306]], dtype=float32),\n",
              " array([[83.83355]], dtype=float32),\n",
              " array([[84.58418]], dtype=float32),\n",
              " array([[80.66712]], dtype=float32),\n",
              " array([[85.285805]], dtype=float32),\n",
              " array([[83.8922]], dtype=float32),\n",
              " array([[81.73148]], dtype=float32),\n",
              " array([[79.88213]], dtype=float32),\n",
              " array([[80.82582]], dtype=float32),\n",
              " array([[78.06103]], dtype=float32),\n",
              " array([[80.65475]], dtype=float32),\n",
              " array([[80.29963]], dtype=float32),\n",
              " array([[81.395546]], dtype=float32),\n",
              " array([[79.8839]], dtype=float32),\n",
              " array([[83.9506]], dtype=float32),\n",
              " array([[85.3478]], dtype=float32),\n",
              " array([[79.82575]], dtype=float32),\n",
              " array([[73.813705]], dtype=float32),\n",
              " array([[80.72729]], dtype=float32),\n",
              " array([[76.76081]], dtype=float32),\n",
              " array([[78.77688]], dtype=float32),\n",
              " array([[76.11378]], dtype=float32),\n",
              " array([[74.9513]], dtype=float32),\n",
              " array([[75.85262]], dtype=float32),\n",
              " array([[81.55346]], dtype=float32),\n",
              " array([[81.09345]], dtype=float32),\n",
              " array([[74.58396]], dtype=float32),\n",
              " array([[75.24471]], dtype=float32),\n",
              " array([[79.93388]], dtype=float32),\n",
              " array([[75.709236]], dtype=float32),\n",
              " array([[81.37334]], dtype=float32),\n",
              " array([[80.38299]], dtype=float32),\n",
              " array([[80.68757]], dtype=float32),\n",
              " array([[80.223854]], dtype=float32),\n",
              " array([[78.03341]], dtype=float32),\n",
              " array([[84.37885]], dtype=float32),\n",
              " array([[81.82499]], dtype=float32),\n",
              " array([[80.81737]], dtype=float32),\n",
              " array([[79.51267]], dtype=float32),\n",
              " array([[78.059364]], dtype=float32),\n",
              " array([[77.80096]], dtype=float32),\n",
              " array([[80.052345]], dtype=float32),\n",
              " array([[84.450356]], dtype=float32),\n",
              " array([[78.339]], dtype=float32),\n",
              " array([[74.69538]], dtype=float32),\n",
              " array([[84.05809]], dtype=float32),\n",
              " array([[80.2987]], dtype=float32),\n",
              " array([[80.04658]], dtype=float32),\n",
              " array([[84.11852]], dtype=float32),\n",
              " array([[80.9622]], dtype=float32),\n",
              " array([[84.605736]], dtype=float32),\n",
              " array([[83.28611]], dtype=float32),\n",
              " array([[84.41988]], dtype=float32),\n",
              " array([[86.62812]], dtype=float32),\n",
              " array([[81.36985]], dtype=float32),\n",
              " array([[84.62847]], dtype=float32),\n",
              " array([[82.09234]], dtype=float32),\n",
              " array([[86.909744]], dtype=float32),\n",
              " array([[86.741585]], dtype=float32),\n",
              " array([[84.545265]], dtype=float32),\n",
              " array([[82.11886]], dtype=float32),\n",
              " array([[80.22419]], dtype=float32),\n",
              " array([[79.817406]], dtype=float32),\n",
              " array([[89.24888]], dtype=float32),\n",
              " array([[81.41465]], dtype=float32),\n",
              " array([[83.98537]], dtype=float32),\n",
              " array([[80.29961]], dtype=float32),\n",
              " array([[78.267586]], dtype=float32),\n",
              " array([[79.02468]], dtype=float32),\n",
              " array([[82.14942]], dtype=float32),\n",
              " array([[80.90348]], dtype=float32),\n",
              " array([[79.59014]], dtype=float32),\n",
              " array([[78.441475]], dtype=float32),\n",
              " array([[85.99787]], dtype=float32),\n",
              " array([[83.76374]], dtype=float32),\n",
              " array([[87.108604]], dtype=float32),\n",
              " array([[82.49905]], dtype=float32),\n",
              " array([[76.38682]], dtype=float32),\n",
              " array([[83.1811]], dtype=float32),\n",
              " array([[83.333885]], dtype=float32),\n",
              " array([[82.16099]], dtype=float32),\n",
              " array([[85.56733]], dtype=float32),\n",
              " array([[83.10755]], dtype=float32),\n",
              " array([[83.15344]], dtype=float32),\n",
              " array([[88.613396]], dtype=float32),\n",
              " array([[83.84632]], dtype=float32),\n",
              " array([[86.28017]], dtype=float32),\n",
              " array([[83.03487]], dtype=float32),\n",
              " array([[84.40336]], dtype=float32),\n",
              " array([[85.51218]], dtype=float32),\n",
              " array([[87.43609]], dtype=float32),\n",
              " array([[85.41106]], dtype=float32),\n",
              " array([[85.3254]], dtype=float32),\n",
              " array([[82.584946]], dtype=float32),\n",
              " array([[80.470726]], dtype=float32),\n",
              " array([[78.48688]], dtype=float32),\n",
              " array([[78.28853]], dtype=float32),\n",
              " array([[82.58918]], dtype=float32),\n",
              " array([[80.26566]], dtype=float32),\n",
              " array([[82.99175]], dtype=float32),\n",
              " array([[78.392006]], dtype=float32),\n",
              " array([[83.40435]], dtype=float32),\n",
              " array([[83.5474]], dtype=float32),\n",
              " array([[85.653725]], dtype=float32),\n",
              " array([[83.87866]], dtype=float32),\n",
              " array([[82.08755]], dtype=float32),\n",
              " array([[81.37676]], dtype=float32),\n",
              " array([[84.58569]], dtype=float32),\n",
              " array([[84.89698]], dtype=float32),\n",
              " array([[87.00744]], dtype=float32),\n",
              " array([[85.50881]], dtype=float32),\n",
              " array([[83.80897]], dtype=float32),\n",
              " array([[87.52226]], dtype=float32),\n",
              " array([[84.86945]], dtype=float32),\n",
              " array([[82.19628]], dtype=float32),\n",
              " array([[84.46819]], dtype=float32),\n",
              " array([[79.683876]], dtype=float32),\n",
              " array([[80.75524]], dtype=float32),\n",
              " array([[84.09254]], dtype=float32),\n",
              " array([[86.33189]], dtype=float32),\n",
              " array([[84.360115]], dtype=float32),\n",
              " array([[83.81402]], dtype=float32),\n",
              " array([[87.42071]], dtype=float32),\n",
              " array([[86.87536]], dtype=float32),\n",
              " array([[90.87196]], dtype=float32),\n",
              " array([[89.56152]], dtype=float32),\n",
              " array([[82.39451]], dtype=float32),\n",
              " array([[82.90611]], dtype=float32),\n",
              " array([[84.72405]], dtype=float32),\n",
              " array([[87.826195]], dtype=float32),\n",
              " array([[86.96814]], dtype=float32)]"
            ]
          },
          "metadata": {
            "tags": []
          },
          "execution_count": 17
        }
      ]
    },
    {
      "cell_type": "code",
      "metadata": {
        "id": "ABAyP_JFaxaE",
        "colab_type": "code",
        "colab": {
          "base_uri": "https://localhost:8080/",
          "height": 1000
        },
        "outputId": "b78fe285-9dee-49f9-ec5c-e1ae8c5d0649"
      },
      "source": [
        "np.array(forecast)[:, 0, 0]"
      ],
      "execution_count": 18,
      "outputs": [
        {
          "output_type": "execute_result",
          "data": {
            "text/plain": [
              "array([ 63.92708 ,  67.30282 ,  67.1954  ,  66.60345 ,  63.19257 ,\n",
              "        65.53152 ,  62.969463,  66.5825  ,  66.95175 ,  66.706154,\n",
              "        62.10678 ,  67.863045,  65.22517 ,  70.89217 ,  64.47697 ,\n",
              "        70.605576,  63.30145 ,  64.156006,  61.89273 ,  63.922348,\n",
              "        61.911106,  65.12808 ,  61.69159 ,  64.835175,  66.480675,\n",
              "        71.32777 ,  68.15058 ,  66.02003 ,  64.79656 ,  65.3626  ,\n",
              "        62.827175,  63.921555,  57.48775 ,  62.512615,  62.522694,\n",
              "        63.377678,  67.272194,  62.34847 ,  59.596676,  62.198402,\n",
              "        65.69375 ,  70.7185  ,  65.62574 ,  67.07161 ,  63.277775,\n",
              "        63.395195,  68.26047 ,  67.11845 ,  60.68424 ,  66.30964 ,\n",
              "        67.1457  ,  67.38548 ,  64.10157 ,  67.29221 ,  65.12989 ,\n",
              "        61.636707,  63.87179 ,  64.71505 ,  65.93783 ,  66.94529 ,\n",
              "        64.3514  ,  66.404854,  57.416004,  64.50891 ,  60.533596,\n",
              "        62.64098 ,  58.094765,  61.681038,  62.6396  ,  63.082096,\n",
              "        65.39727 ,  65.78925 ,  63.74163 ,  66.354774,  61.266636,\n",
              "        67.96638 ,  64.27943 ,  59.245728,  62.540478,  65.77575 ,\n",
              "        67.35438 ,  66.802956,  63.601746,  64.55955 ,  67.69915 ,\n",
              "        70.3258  ,  69.844185,  67.76397 ,  67.16804 ,  65.02886 ,\n",
              "        66.287025,  64.9602  ,  64.97486 ,  66.836754,  66.03602 ,\n",
              "        66.7938  ,  86.18699 ,  94.77828 ,  93.42849 , 100.0897  ,\n",
              "       102.10134 , 105.61669 ,  98.52453 , 108.31446 , 102.87649 ,\n",
              "       105.510704, 100.4707  , 105.19143 ,  97.49311 , 101.792564,\n",
              "       104.6778  , 106.83466 , 100.688805, 108.349724, 106.71279 ,\n",
              "       103.653915, 102.86207 , 110.767235, 103.63816 , 101.918846,\n",
              "       104.42057 , 106.462425, 104.67368 , 104.89672 ,  98.45641 ,\n",
              "       103.593346,  95.83529 , 102.46438 ,  96.54278 ,  97.58784 ,\n",
              "        97.070595,  99.31844 ,  98.68668 , 102.2653  ,  99.34807 ,\n",
              "        99.60804 ,  96.3086  , 101.8536  ,  94.21609 ,  96.60796 ,\n",
              "        96.55395 ,  93.23307 ,  96.473206,  96.05385 ,  92.6311  ,\n",
              "        91.81069 ,  92.21408 ,  89.49115 ,  86.122185,  92.38352 ,\n",
              "        88.47503 ,  86.43769 ,  81.59194 ,  83.01046 ,  82.191666,\n",
              "        89.141945,  89.348656,  87.92562 ,  88.731834,  91.116005,\n",
              "        86.531456,  79.60613 ,  87.54981 ,  80.20281 ,  77.57931 ,\n",
              "        81.26828 ,  88.86779 ,  85.13285 ,  85.03675 ,  82.69066 ,\n",
              "        83.44209 ,  80.820816,  84.04392 ,  80.3708  ,  76.04458 ,\n",
              "        73.41018 ,  74.744965,  69.347824,  70.343376,  69.25884 ,\n",
              "        70.313866,  67.90848 ,  75.037056,  75.96165 ,  69.04142 ,\n",
              "        65.42903 ,  69.55753 ,  65.71148 ,  68.265205,  67.83895 ,\n",
              "        63.66084 ,  63.792736,  61.26933 ,  62.858276,  62.301456,\n",
              "        59.071674,  63.181133,  60.17586 ,  63.591755,  62.697872,\n",
              "        65.07996 ,  61.567238,  57.744873,  59.82585 ,  61.24667 ,\n",
              "        56.285152,  59.409554,  53.92777 ,  52.90147 ,  49.630085,\n",
              "        56.892345,  52.203533,  51.400005,  48.00223 ,  54.329548,\n",
              "        49.980854,  55.961678,  49.912468,  51.68123 ,  44.32063 ,\n",
              "        55.951725,  46.464855,  50.74039 ,  46.790718,  49.70209 ,\n",
              "        44.816265,  47.63428 ,  45.057693,  46.107998,  43.96679 ,\n",
              "        52.739586,  44.60229 ,  41.755466,  40.440872,  48.314144,\n",
              "        42.080334,  47.564144,  47.017803,  42.253197,  39.63168 ,\n",
              "        47.97275 ,  41.465893,  61.701817,  68.5208  ,  76.44022 ,\n",
              "        73.411156,  78.10093 ,  79.283226,  79.87123 ,  83.00855 ,\n",
              "        79.242   ,  79.67951 ,  84.27648 ,  75.58889 ,  82.78748 ,\n",
              "        84.17504 ,  78.06913 ,  87.18025 ,  83.88717 ,  84.17794 ,\n",
              "        84.38795 ,  83.69879 ,  82.89988 ,  82.58848 ,  80.93826 ,\n",
              "        81.98737 ,  75.6325  ,  81.437836,  76.78103 ,  80.25355 ,\n",
              "        81.5262  ,  83.720726,  85.74099 ,  80.367134,  78.931   ,\n",
              "        85.28083 ,  81.459564,  88.99381 ,  85.59768 ,  83.236015,\n",
              "        80.428215,  81.98362 ,  81.3441  ,  83.59185 ,  83.46999 ,\n",
              "        81.44923 ,  75.476524,  76.30448 ,  79.676994,  77.53937 ,\n",
              "        73.98935 ,  77.30758 ,  85.85943 ,  82.71015 ,  85.4352  ,\n",
              "        83.225685,  80.74883 ,  81.585625,  83.66851 ,  82.729965,\n",
              "        81.191   ,  79.673164,  82.457985,  79.63969 ,  79.92086 ,\n",
              "        80.940735,  79.538826,  79.33863 ,  79.59872 ,  86.21241 ,\n",
              "        82.92856 ,  80.35536 ,  84.01586 ,  84.62018 ,  84.38468 ,\n",
              "        84.01533 ,  77.25219 ,  77.774796,  76.77206 ,  78.66715 ,\n",
              "        79.84279 ,  78.54488 ,  81.00235 ,  80.51786 ,  81.824524,\n",
              "        82.55603 ,  76.58308 ,  76.69652 ,  77.81187 ,  76.3074  ,\n",
              "        80.94306 ,  83.83355 ,  84.58418 ,  80.66712 ,  85.285805,\n",
              "        83.8922  ,  81.73148 ,  79.88213 ,  80.82582 ,  78.06103 ,\n",
              "        80.65475 ,  80.29963 ,  81.395546,  79.8839  ,  83.9506  ,\n",
              "        85.3478  ,  79.82575 ,  73.813705,  80.72729 ,  76.76081 ,\n",
              "        78.77688 ,  76.11378 ,  74.9513  ,  75.85262 ,  81.55346 ,\n",
              "        81.09345 ,  74.58396 ,  75.24471 ,  79.93388 ,  75.709236,\n",
              "        81.37334 ,  80.38299 ,  80.68757 ,  80.223854,  78.03341 ,\n",
              "        84.37885 ,  81.82499 ,  80.81737 ,  79.51267 ,  78.059364,\n",
              "        77.80096 ,  80.052345,  84.450356,  78.339   ,  74.69538 ,\n",
              "        84.05809 ,  80.2987  ,  80.04658 ,  84.11852 ,  80.9622  ,\n",
              "        84.605736,  83.28611 ,  84.41988 ,  86.62812 ,  81.36985 ,\n",
              "        84.62847 ,  82.09234 ,  86.909744,  86.741585,  84.545265,\n",
              "        82.11886 ,  80.22419 ,  79.817406,  89.24888 ,  81.41465 ,\n",
              "        83.98537 ,  80.29961 ,  78.267586,  79.02468 ,  82.14942 ,\n",
              "        80.90348 ,  79.59014 ,  78.441475,  85.99787 ,  83.76374 ,\n",
              "        87.108604,  82.49905 ,  76.38682 ,  83.1811  ,  83.333885,\n",
              "        82.16099 ,  85.56733 ,  83.10755 ,  83.15344 ,  88.613396,\n",
              "        83.84632 ,  86.28017 ,  83.03487 ,  84.40336 ,  85.51218 ,\n",
              "        87.43609 ,  85.41106 ,  85.3254  ,  82.584946,  80.470726,\n",
              "        78.48688 ,  78.28853 ,  82.58918 ,  80.26566 ,  82.99175 ,\n",
              "        78.392006,  83.40435 ,  83.5474  ,  85.653725,  83.87866 ,\n",
              "        82.08755 ,  81.37676 ,  84.58569 ,  84.89698 ,  87.00744 ,\n",
              "        85.50881 ,  83.80897 ,  87.52226 ,  84.86945 ,  82.19628 ,\n",
              "        84.46819 ,  79.683876,  80.75524 ,  84.09254 ,  86.33189 ,\n",
              "        84.360115,  83.81402 ,  87.42071 ,  86.87536 ,  90.87196 ,\n",
              "        89.56152 ,  82.39451 ,  82.90611 ,  84.72405 ,  87.826195,\n",
              "        86.96814 ], dtype=float32)"
            ]
          },
          "metadata": {
            "tags": []
          },
          "execution_count": 18
        }
      ]
    },
    {
      "cell_type": "code",
      "metadata": {
        "id": "3LDMiWvBb0mp",
        "colab_type": "code",
        "colab": {
          "base_uri": "https://localhost:8080/",
          "height": 34
        },
        "outputId": "ed9a3fe5-8238-4f18-86f1-c6d6ffe165aa"
      },
      "source": [
        "len(np.array(forecast)[:, 0, 0])"
      ],
      "execution_count": 19,
      "outputs": [
        {
          "output_type": "execute_result",
          "data": {
            "text/plain": [
              "461"
            ]
          },
          "metadata": {
            "tags": []
          },
          "execution_count": 19
        }
      ]
    },
    {
      "cell_type": "code",
      "metadata": {
        "id": "0Qv-FWHrb63w",
        "colab_type": "code",
        "colab": {
          "base_uri": "https://localhost:8080/",
          "height": 34
        },
        "outputId": "c77949a1-fa6d-4d94-a7e3-1add3c9297ea"
      },
      "source": [
        "len(x_valid)"
      ],
      "execution_count": 21,
      "outputs": [
        {
          "output_type": "execute_result",
          "data": {
            "text/plain": [
              "461"
            ]
          },
          "metadata": {
            "tags": []
          },
          "execution_count": 21
        }
      ]
    },
    {
      "cell_type": "code",
      "metadata": {
        "id": "D13tb3WZcWZf",
        "colab_type": "code",
        "colab": {}
      },
      "source": [
        ""
      ],
      "execution_count": 0,
      "outputs": []
    }
  ]
}